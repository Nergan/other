{
 "cells": [
  {
   "attachments": {},
   "cell_type": "markdown",
   "metadata": {},
   "source": [
    "Elemental"
   ]
  },
  {
   "cell_type": "code",
   "execution_count": null,
   "metadata": {},
   "outputs": [],
   "source": [
    "from random import randint\n",
    "\n",
    "random_gene       = lambda                                     : randint(0, 1)\n",
    "random_chromosome = lambda                   chromosome_lenght : [random_gene() for _ in range(chromosome_lenght)]\n",
    "random_generation = lambda chromosome_count, chromosome_lenght : [random_chromosome(chromosome_lenght)\n",
    "                                                                  for _ in range(chromosome_count)]"
   ]
  },
  {
   "attachments": {},
   "cell_type": "markdown",
   "metadata": {},
   "source": [
    "Selection algorithms"
   ]
  },
  {
   "cell_type": "code",
   "execution_count": null,
   "metadata": {},
   "outputs": [],
   "source": [
    "from random import random, uniform\n",
    "from  numpy import float64\n",
    "\n",
    "def rank(generation : [[0 or 1]], function=None) -> [0 or 1]: # parent\n",
    "    parent : [0 or 1]\n",
    "    \n",
    "    p = 0\n",
    "    r = random()\n",
    "    \n",
    "    N = len(generation)\n",
    "    a = uniform(1, 2)\n",
    "    b = 2 - a\n",
    "    \n",
    "    for i in range(N):\n",
    "        p += 1/N * (a - (a-b) * (i-1)/(1 if N-1 == 0 else N-1))\n",
    "        \n",
    "        if p >= r:\n",
    "            parent = generation[i]\n",
    "            return parent"
   ]
  },
  {
   "cell_type": "code",
   "execution_count": null,
   "metadata": {},
   "outputs": [],
   "source": [
    "from random import random\n",
    "from  numpy import float64   \n",
    "\n",
    "def roulette(generation : [[0 or 1]],          # parent\n",
    "               function : lambda x: float64) -> [0 or 1]:\n",
    "    \n",
    "    parent : [0 or 1]\n",
    "    \n",
    "    p = 0\n",
    "    r = random()\n",
    "    \n",
    "    s = sum(map(function, generation))\n",
    "    \n",
    "    # if s == 0:\n",
    "    #     parent = generation[0]\n",
    "    #     return parent\n",
    "    \n",
    "    for i in range(len(generation)):\n",
    "        p += function(generation[i]) / s\n",
    "        \n",
    "        if p >= r:\n",
    "            parent = generation[i]\n",
    "            return parent\n",
    "        \n",
    "    parent = generation[i]     \n",
    "    return parent"
   ]
  },
  {
   "cell_type": "code",
   "execution_count": null,
   "metadata": {},
   "outputs": [],
   "source": [
    "from random import choice\n",
    "from  numpy import float64          \n",
    "\n",
    "def tournament(generation : [[0 or 1]],          # parent\n",
    "                 function : lambda x: float64) -> [0 or 1]:\n",
    "    \n",
    "    mom = choice(generation)\n",
    "    dad = choice(generation)\n",
    "    \n",
    "    parent             : [0 or 1] = min(mom, dad, key=function)\n",
    "    return parent"
   ]
  },
  {
   "attachments": {},
   "cell_type": "markdown",
   "metadata": {},
   "source": [
    "Mate algorithms"
   ]
  },
  {
   "cell_type": "code",
   "execution_count": null,
   "metadata": {},
   "outputs": [],
   "source": [
    "from random import random\n",
    "\n",
    "def steady(mom: [0 or 1], dad: [0 or 1]) -> [0 or 1]:\n",
    "    \n",
    "    child = []\n",
    "    for mom_gen, dad_gen in zip(mom, dad):\n",
    "        if random() > 1/2: child += [mom_gen]\n",
    "        else             : child += [dad_gen]\n",
    "        \n",
    "    return child\n",
    "    \n",
    "def one_point(mom: [0 or 1], dad: [0 or 1]) -> [0 or 1]: \n",
    "    point = randint(0, len(mom)-1)\n",
    "    child = mom[:point] + dad[point:]\n",
    "    return child\n",
    "    \n",
    "    \n",
    "def two_points(mom: [0 or 1], dad: [0 or 1]) -> [0 or 1]:\n",
    "    point1 = randint(0, len(mom)-2)\n",
    "    point2 = randint(point1, len(mom)-1)\n",
    "    child  = mom[:point1] + dad[point1:point2] + mom[point2:]\n",
    "    return child"
   ]
  },
  {
   "attachments": {},
   "cell_type": "markdown",
   "metadata": {},
   "source": [
    "Mutation"
   ]
  },
  {
   "cell_type": "code",
   "execution_count": null,
   "metadata": {},
   "outputs": [],
   "source": [
    "from random import random\n",
    "\n",
    "def mutation(chromosome: [0 or 1]) -> [0 or 1]:\n",
    "    p = 1/len(chromosome)\n",
    "    \n",
    "    for i in range(len(chromosome)):\n",
    "        if random() < p:\n",
    "            chromosome[i] = abs(chromosome[i] - 1)\n",
    "            \n",
    "    return chromosome"
   ]
  },
  {
   "attachments": {},
   "cell_type": "markdown",
   "metadata": {},
   "source": [
    "Converting a function to accept a chromosome argument (hmmmmmm)\n",
    "\n"
   ]
  },
  {
   "cell_type": "code",
   "execution_count": null,
   "metadata": {},
   "outputs": [],
   "source": [
    "from numpy import float64\n",
    "\n",
    "def function_conversion(function          : lambda x: float,\n",
    "                        interval_min      : float,\n",
    "                        interval_max      : float,\n",
    "                        chromosome_length : float) -> lambda x: float64:\n",
    "    \n",
    "    return lambda x: float64(function(float64( interval_min + int(''.join(map(str, x)), 2) * (interval_max - interval_min) / 2**chromosome_length )))"
   ]
  },
  {
   "attachments": {},
   "cell_type": "markdown",
   "metadata": {},
   "source": [
    "Batch"
   ]
  },
  {
   "cell_type": "code",
   "execution_count": null,
   "metadata": {},
   "outputs": [],
   "source": [
    "from numpy import float64\n",
    "from copy import copy\n",
    "from math import ceil\n",
    "\n",
    "def batch(         function : lambda x: float64,\n",
    "                     answer : float,\n",
    "                   accuracy : float,\n",
    "                epoch_count : int,\n",
    "           chromosome_count : int, # return (successfulBatch_flag, successfulEpoch_number, leader)\n",
    "          chromosome_lenght : int,\n",
    "                  selection : rank or roulette or tournament,\n",
    "                       mate : steady or one_point or two_points) -> (bool, int, [0 or 1]):\n",
    "    \n",
    "    successfulBatch_flag   :     bool = False\n",
    "    successfulEpoch_number :      int = None\n",
    "    leader                 : [0 or 1] = None\n",
    "    \n",
    "    generation         : [[0 or 1]] = random_generation(chromosome_count, chromosome_lenght)\n",
    "    generation         : [[0 or 1]] = sorted(generation, key=function)\n",
    "    \n",
    "    childCount_percent : int = 90 # CONST\n",
    "    childCount         : int = ceil(len(generation)*(childCount_percent/100))\n",
    "    \n",
    "    generation         : [[0 or 1]] = generation[:-childCount]\n",
    "    virtual_generation : [[0 or 1]] = copy(generation)\n",
    "    leader             :   [0 or 1] = generation[0]\n",
    "    \n",
    "    for epoch_number in range(epoch_count):\n",
    "          for _ in range(childCount):\n",
    "                mom = selection(virtual_generation, function)\n",
    "                \n",
    "                if len(virtual_generation) != 1:\n",
    "                  virtual_generation.remove(mom)\n",
    "                  \n",
    "                dad = selection(virtual_generation, function)\n",
    "                virtual_generation.remove(dad)\n",
    "                child = mutation(mate(mom, dad))\n",
    "                \n",
    "                generation += [child]\n",
    "                virtual_generation += [mom, dad]\n",
    "                virtual_generation.sort(key=function)\n",
    "                \n",
    "          generation         = sorted(generation, key=function)\n",
    "          leader             = generation[0]\n",
    "          \n",
    "          if abs(function(leader) - answer) <= accuracy:\n",
    "                successfulBatch_flag   = True\n",
    "                successfulEpoch_number = epoch_number\n",
    "                leader                 = leader\n",
    "                \n",
    "                return successfulBatch_flag, successfulEpoch_number, leader\n",
    "          \n",
    "          generation         = generation[:-childCount]\n",
    "          virtual_generation = copy(generation)\n",
    "          \n",
    "    else:\n",
    "          return successfulBatch_flag, successfulEpoch_number, leader"
   ]
  },
  {
   "attachments": {},
   "cell_type": "markdown",
   "metadata": {},
   "source": [
    "Main move\n",
    "\n"
   ]
  },
  {
   "cell_type": "code",
   "execution_count": null,
   "metadata": {},
   "outputs": [],
   "source": [
    "from numpy import mean, float64\n",
    "from math  import ceil, log2\n",
    "\n",
    "def fit(         function : lambda x: float,\n",
    "                 interval : (float, float),\n",
    "                   answer : float,\n",
    "                 accuracy : float,\n",
    "                selection : rank or roulette or tournament,\n",
    "                     mate : steady or one_point or two_points,\n",
    "         chromosome_count : int,\n",
    "              epoch_count : int,     # return (reliability, expenses, leaders)\n",
    "              batch_count : int)    -> (float, float, list):\n",
    "  \n",
    "  reliability : float( 1 - int(failedBatch_count) / int(batch_count) )\n",
    "  expenses    : float( mean(list(successfulEpoch_numbers)) )\n",
    "  leaders     :  list( sorted(list(leaders_unsort), key=function) )\n",
    "  \n",
    "  failedBatch_count       : int        = batch_count\n",
    "  successfulEpoch_numbers : list       = []\n",
    "  leaders_unsort          : [[0 or 1]] = []\n",
    "  \n",
    "  # parameters conversion\n",
    "  interval_min, interval_max       = interval[0], interval[1]\n",
    "  chromosome_length                = ceil(log2(interval_max - interval_min) - log2(accuracy))\n",
    "  function:      lambda x: float64 = function_conversion(function,\n",
    "                                                         interval_min,interval_max,\n",
    "                                                         chromosome_length)\n",
    "  \n",
    "  for batch_number in range(batch_count):\n",
    "    successfulBatch_flag, successfulEpoch_number, leader = batch(function,\n",
    "                                                                 answer,\n",
    "                                                                 accuracy,\n",
    "                                                                 epoch_count,\n",
    "                                                                 chromosome_count,\n",
    "                                                                 chromosome_length,\n",
    "                                                                 selection,\n",
    "                                                                 mate)\n",
    "    \n",
    "    if successfulBatch_flag:\n",
    "      failedBatch_count       -= 1\n",
    "      successfulEpoch_numbers += [successfulEpoch_number]\n",
    "      leaders_unsort          += [leader]\n",
    "      \n",
    "  reliability = 1 - failedBatch_count / batch_count\n",
    "  expenses    = mean(successfulEpoch_numbers)\n",
    "  leaders     = sorted(leaders_unsort, key=function)\n",
    "  \n",
    "  return {'надёжность' : reliability,\n",
    "             'затраты' : expenses,\n",
    "              'лидеры' : leaders}"
   ]
  },
  {
   "attachments": {},
   "cell_type": "markdown",
   "metadata": {},
   "source": [
    "Running one test function\n",
    "\n"
   ]
  },
  {
   "cell_type": "code",
   "execution_count": null,
   "metadata": {},
   "outputs": [],
   "source": [
    "from numpy import seterr\n",
    "seterr(divide='ignore')\n",
    "\n",
    "objective_function_1 = lambda x: x**2                     # answer = 0,       interval = (-16, 16)\n",
    "objective_function_2 = lambda x: (x**2 + 3*x - 9)/3       # answer = -3.75,   interval = (-18, 14)\n",
    "objective_function_3 = lambda x: (2**(x**3))/(8*x)        # answer = 0.223,   interval = (0.01, 32)\n",
    "objective_function_4 = lambda x: (x**2 + 8)/2 - 2*x       # answer = 2,       interval = (-14, 18)\n",
    "objective_function_5 = lambda x: (2*x**4 - 8*x - 5)/(5/4) # answer = -8.8,    interval = (-15, 17)\n",
    "                                                          # answer = -11.735, interval = (-4, 4)\n",
    "objective_function_6 = lambda x: ((16**(x**2)) + (18*(x**3)) - (16*x)) / (10*(x**2)) - (10*(x**2))\n",
    "\n",
    "fit(        function=objective_function_3,\n",
    "                            interval=(-5, 5),\n",
    "                             answer=-11.735,\n",
    "                            accuracy=0.001,\n",
    "                           selection=roulette, # rank, roulette, tournament\n",
    "                                mate=one_point, # steady, one_point, two_points\n",
    "                    chromosome_count=100,\n",
    "                         epoch_count=30,\n",
    "                         batch_count=50)"
   ]
  },
  {
   "attachments": {},
   "cell_type": "markdown",
   "metadata": {},
   "source": [
    "Testing: is the leading chromosome true to the global minimum?\n",
    "\n"
   ]
  },
  {
   "cell_type": "code",
   "execution_count": null,
   "metadata": {},
   "outputs": [],
   "source": [
    "function_conversion(objective_function_6, -4, 4, 13)([0, 1, 0, 1, 0, 1, 1, 1, 1, 0, 1, 0, 0])"
   ]
  }
 ],
 "metadata": {
  "kernelspec": {
   "display_name": "Python 3",
   "language": "python",
   "name": "python3"
  },
  "language_info": {
   "name": "python",
   "version": "3.11.2"
  },
  "orig_nbformat": 4
 },
 "nbformat": 4,
 "nbformat_minor": 2
}
